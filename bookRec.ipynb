{
 "cells": [
  {
   "cell_type": "markdown",
   "source": [
    "sklearn for text vectorization and similarity calculation."
   ],
   "metadata": {}
  },
  {
   "cell_type": "code",
   "execution_count": 1,
   "source": [
    "import pandas as pd\n",
    "from sklearn.feature_extraction.text import TfidfVectorizer\n",
    "from sklearn.metrics.pairwise import cosine_similarity"
   ],
   "outputs": [],
   "metadata": {}
  },
  {
   "cell_type": "markdown",
   "source": [
    "Loading data in"
   ],
   "metadata": {}
  },
  {
   "cell_type": "code",
   "execution_count": 2,
   "source": [
    "df = pd.read_csv('bookData.csv')\n"
   ],
   "outputs": [],
   "metadata": {}
  },
  {
   "cell_type": "markdown",
   "source": [
    "The stop_words='english' parameter tells the TfidfVectorizer to exclude common English words (such as \"the\", \"and\", \"in\") that appear across a wide range of documents and are typically not useful for distinguishing between different documents' content. Removing these stop words can help improve the focus on more meaningful terms within the 'Categories' data for calculating similarities between books."
   ],
   "metadata": {}
  },
  {
   "cell_type": "code",
   "execution_count": 3,
   "source": [
    "tfidf_vectorizer = TfidfVectorizer(stop_words='english')  \n",
    "tfidf_matrix = tfidf_vectorizer.fit_transform(df['Categories'])"
   ],
   "outputs": [],
   "metadata": {}
  },
  {
   "cell_type": "markdown",
   "source": [
    "This score will range from 0 to 1, where 1 means two books have exactly the same categories mentioned."
   ],
   "metadata": {}
  },
  {
   "cell_type": "code",
   "execution_count": 4,
   "source": [
    "cosine_sim = cosine_similarity(tfidf_matrix, tfidf_matrix)"
   ],
   "outputs": [],
   "metadata": {}
  },
  {
   "cell_type": "markdown",
   "source": [
    "Code for reccomendation but without outputting categories"
   ],
   "metadata": {}
  },
  {
   "cell_type": "code",
   "execution_count": null,
   "source": [
    "'''\n",
    "def get_recommendations(title, cosine_sim=cosine_sim):\n",
    "    # Ensure the title exists in the dataset to avoid errors\n",
    "    if title not in df['Title'].values:\n",
    "        return \"The book title you entered is not in the dataset.\"\n",
    "    \n",
    "    # Get the index of the book that matches the title\n",
    "    idx = df.index[df['Title'] == title].tolist()[0]\n",
    "\n",
    "    # Get the pairwise similarity scores of all books with that book\n",
    "    sim_scores = list(enumerate(cosine_sim[idx]))\n",
    "\n",
    "    # Sort the books based on the similarity scores\n",
    "    sim_scores = sorted(sim_scores, key=lambda x: x[1], reverse=True)\n",
    "\n",
    "    # Skip the first one because it's the book itself and get the scores of the top 3 similar books\n",
    "    top_sim_scores = sim_scores[1:4]\n",
    "\n",
    "    # Get the book indices and the similarity scores\n",
    "    book_indices = [i[0] for i in top_sim_scores]\n",
    "    similarities = [i[1] for i in top_sim_scores]\n",
    "\n",
    "    # Format the output\n",
    "    recommendations = df['Title'].iloc[book_indices]\n",
    "    output = \"Based on this book, the top 3 most closely related ones are:\\n\"\n",
    "    for i, (index, similarity) in enumerate(zip(book_indices, similarities)):\n",
    "        percentage_similarity = similarity * 100\n",
    "        output += f\"{i+1}: {df['Title'].iloc[index]} ({percentage_similarity:.2f}% similar)\\n\"\n",
    "\n",
    "    return output\n",
    "\n",
    "'''"
   ],
   "outputs": [],
   "metadata": {}
  },
  {
   "cell_type": "markdown",
   "source": [
    "Create a function that takes a book title as input, finds that book in the dataset, and then returns books with the highest cosine similarity scores to it."
   ],
   "metadata": {}
  },
  {
   "cell_type": "code",
   "execution_count": 5,
   "source": [
    "def get_recommendations(title, df, cosine_sim=cosine_sim):\n",
    "    # Ensure the title exists in the dataset to avoid errors\n",
    "    if title not in df['Title'].values:\n",
    "        return \"The book title you entered is not in the dataset.\"\n",
    "    \n",
    "    # Get the index of the book that matches the title\n",
    "    idx = df.index[df['Title'] == title].tolist()[0]\n",
    "\n",
    "    # Get the pairwise similarity scores of all books with that book\n",
    "    sim_scores = list(enumerate(cosine_sim[idx]))\n",
    "\n",
    "    # Sort the books based on the similarity scores\n",
    "    sim_scores = sorted(sim_scores, key=lambda x: x[1], reverse=True)\n",
    "\n",
    "    # Skip the first one because it's the book itself and get the scores of the top 3 similar books\n",
    "    top_sim_scores = sim_scores[1:4]\n",
    "\n",
    "    # Get the book indices\n",
    "    book_indices = [i[0] for i in top_sim_scores]\n",
    "    similarities = [i[1] for i in top_sim_scores]\n",
    "\n",
    "    input_book_categories = set(df.iloc[idx]['Categories'].split())\n",
    "\n",
    "    # Format the output\n",
    "    output = \"Based on this book, the top 3 most closely related ones are:\\n\"\n",
    "    for i, (index, similarity) in enumerate(zip(book_indices, similarities)):\n",
    "        percentage_similarity = similarity * 100\n",
    "        recommended_book_categories = set(df.iloc[index]['Categories'].split())\n",
    "        common_categories = input_book_categories.intersection(recommended_book_categories)\n",
    "        common_categories_list = list(common_categories)[:2]  # Get up to 2 common categories\n",
    "        common_categories_str = \", \".join(common_categories_list)\n",
    "        output += f\"{i+1}: {df.iloc[index]['Title']} ({percentage_similarity:.2f}% similar) - Matching categories: {common_categories_str}\\n\"\n",
    "\n",
    "    return output\n"
   ],
   "outputs": [],
   "metadata": {}
  },
  {
   "cell_type": "code",
   "execution_count": 8,
   "source": [
    "print(get_recommendations('The psychology of effective studyinghow to succeed in your degree ', df, cosine_sim))"
   ],
   "outputs": [
    {
     "output_type": "stream",
     "name": "stdout",
     "text": [
      "Based on this book, the top 3 most closely related ones are:\n",
      "1: The psychology of effective studying :how to succeed in your degree  (74.09% similar) - Matching categories: skills, Study\n",
      "2: P.O.W.E.R. learning :strategies for success in college and life  (51.01% similar) - Matching categories: skills, Study\n",
      "3: Excelling in college :strategies for success & reducing stress  (31.90% similar) - Matching categories: skills, Study\n",
      "\n"
     ]
    }
   ],
   "metadata": {}
  },
  {
   "cell_type": "code",
   "execution_count": null,
   "source": [],
   "outputs": [],
   "metadata": {}
  }
 ],
 "metadata": {
  "orig_nbformat": 4,
  "language_info": {
   "name": "python",
   "version": "3.10.1",
   "mimetype": "text/x-python",
   "codemirror_mode": {
    "name": "ipython",
    "version": 3
   },
   "pygments_lexer": "ipython3",
   "nbconvert_exporter": "python",
   "file_extension": ".py"
  },
  "kernelspec": {
   "name": "python3",
   "display_name": "Python 3.10.1 64-bit"
  },
  "interpreter": {
   "hash": "aee8b7b246df8f9039afb4144a1f6fd8d2ca17a180786b69acc140d282b71a49"
  }
 },
 "nbformat": 4,
 "nbformat_minor": 2
}